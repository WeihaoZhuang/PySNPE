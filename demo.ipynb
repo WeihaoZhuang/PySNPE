{
 "cells": [
  {
   "cell_type": "code",
   "execution_count": 1,
   "id": "edd8f887-43ef-49eb-811f-9379cf07ce43",
   "metadata": {},
   "outputs": [],
   "source": [
    "import numpy as np\n",
    "import cv2\n",
    "import matplotlib.pyplot as plt\n",
    "from adb_helper import ADB\n",
    "from envs_helper import setup_mobile_env, delete_mobile_envs, setup_host_env\n",
    "from snpe_utils import SnpeArray, SnpeModel, OnnxConverter\n",
    "from labels import imagenet_labels"
   ]
  },
  {
   "cell_type": "markdown",
   "id": "9de8aa5e-7f30-4fd1-a2b1-df35cc35088e",
   "metadata": {
    "tags": []
   },
   "source": [
    "### Lib"
   ]
  },
  {
   "cell_type": "code",
   "execution_count": null,
   "id": "402caa42-e831-45e5-93c8-32c32a876119",
   "metadata": {},
   "outputs": [],
   "source": [
    "#Please download alexnet.onnx from : https://drive.google.com/file/d/1BUy1y21huEtmfdnVJwo-rdv9NusXvzT9/view?usp=sharing"
   ]
  },
  {
   "cell_type": "code",
   "execution_count": 2,
   "id": "e08f7c56-eed6-4228-9ad9-e603b00af3bd",
   "metadata": {},
   "outputs": [],
   "source": [
    "mobile_arch = \"arm-android-clang8.0\"\n",
    "host_snpe = \"/home/xxx/snpe-1.64.0_3605/snpe-1.64.0.3605/\"\n",
    "adbkey_path = \"/home/xxx/.android/\"\n",
    "model_path = \"./alexnet.onnx\""
   ]
  },
  {
   "cell_type": "markdown",
   "id": "4c21ae31-b1c9-4e12-9bd8-92c7a6a99127",
   "metadata": {},
   "source": [
    "### Setup Env"
   ]
  },
  {
   "cell_type": "code",
   "execution_count": 3,
   "id": "1e19ced4-ac35-4ef4-acfa-83e91c85f2c3",
   "metadata": {},
   "outputs": [],
   "source": [
    "delete_mobile_envs(adbkey_path)\n",
    "setup_mobile_env(host_snpe, adbkey_path)\n",
    "setup_host_env()"
   ]
  },
  {
   "cell_type": "markdown",
   "id": "8b9eaaf3-43ae-48d5-ae8e-35abb4045de8",
   "metadata": {},
   "source": [
    "### Onnx model to DLC model"
   ]
  },
  {
   "cell_type": "code",
   "execution_count": 4,
   "id": "11a10bb5-81aa-47cc-aaa0-651153bdef1b",
   "metadata": {},
   "outputs": [],
   "source": [
    "converter = OnnxConverter(model_path, host_snpe)\n",
    "model = converter.onnx_to_dlc()\n",
    "model.upload_model(adbkey_path=adbkey_path)"
   ]
  },
  {
   "cell_type": "markdown",
   "id": "b33d51a3-8d66-44af-bf20-2cd14710614f",
   "metadata": {},
   "source": [
    "### Input"
   ]
  },
  {
   "cell_type": "code",
   "execution_count": 5,
   "id": "8ac370d7-d976-42e6-95c5-b19a22e391e6",
   "metadata": {},
   "outputs": [],
   "source": [
    "inp = cv2.imread(\"./cat.jpeg\").astype(\"float32\")/255.\n",
    "inp = np.ascontiguousarray(cv2.resize(inp[:,:,::-1],(224,224))[None])"
   ]
  },
  {
   "cell_type": "code",
   "execution_count": 6,
   "id": "2b503f5a-83d5-43d9-a267-070071b694e0",
   "metadata": {},
   "outputs": [],
   "source": [
    "inputs = ['input.1',inp]\n",
    "inp_array = SnpeArray(inputs, mobile=True)"
   ]
  },
  {
   "cell_type": "markdown",
   "id": "528dd54e-dc11-45b1-b813-28bc0ba85e57",
   "metadata": {},
   "source": [
    "### Inference"
   ]
  },
  {
   "cell_type": "code",
   "execution_count": 7,
   "id": "9b972851-cad6-4c41-b98f-39692d0d5f2e",
   "metadata": {},
   "outputs": [
    {
     "name": "stdout",
     "output_type": "stream",
     "text": [
      "LD_LIBRARY_PATH=$LD_LIBRARY_PATH:/data/local/tmp/snpe/lib:/system/vendor/lib/ PATH=$PATH:/data/local/tmp/snpe/bin ADSP_LIBRARY_PATH=\"/data/local/tmp/snpe/dsp/lib;/system/lib/rfsa/adsp;/system/vendor/lib/rfsa/adsp;/dsp\" snpe-net-run --container /data/local/tmp/snpe/models/model.dlc --input_list /data/local/tmp/snpe/inputs/inputs.txt --output_dir /data/local/tmp/snpe/outputs/ --use_gpu --gpu_mode=float16\n"
     ]
    }
   ],
   "source": [
    "df,output = model(inp_array, 'gpu', profile=True)"
   ]
  },
  {
   "cell_type": "markdown",
   "id": "cb7b1b0d-a9de-4552-abcb-040949d7b4d5",
   "metadata": {},
   "source": [
    "### Profile"
   ]
  },
  {
   "cell_type": "code",
   "execution_count": 8,
   "id": "74298767-53da-4fea-b416-ca2d9f5a55bb",
   "metadata": {},
   "outputs": [
    {
     "data": {
      "text/html": [
       "<div>\n",
       "<style scoped>\n",
       "    .dataframe tbody tr th:only-of-type {\n",
       "        vertical-align: middle;\n",
       "    }\n",
       "\n",
       "    .dataframe tbody tr th {\n",
       "        vertical-align: top;\n",
       "    }\n",
       "\n",
       "    .dataframe thead th {\n",
       "        text-align: right;\n",
       "    }\n",
       "</style>\n",
       "<table border=\"1\" class=\"dataframe\">\n",
       "  <thead>\n",
       "    <tr style=\"text-align: right;\">\n",
       "      <th></th>\n",
       "      <th>timestamp</th>\n",
       "      <th>message</th>\n",
       "      <th>idx</th>\n",
       "      <th>time</th>\n",
       "      <th>runtime</th>\n",
       "    </tr>\n",
       "  </thead>\n",
       "  <tbody>\n",
       "    <tr>\n",
       "      <th>18</th>\n",
       "      <td>15776295627</td>\n",
       "      <td>FORWARD_PROPAGATE_LAYER</td>\n",
       "      <td>0</td>\n",
       "      <td>0</td>\n",
       "      <td>GPU</td>\n",
       "    </tr>\n",
       "    <tr>\n",
       "      <th>19</th>\n",
       "      <td>15776295627</td>\n",
       "      <td>FORWARD_PROPAGATE_LAYER</td>\n",
       "      <td>1</td>\n",
       "      <td>479</td>\n",
       "      <td>GPU</td>\n",
       "    </tr>\n",
       "    <tr>\n",
       "      <th>20</th>\n",
       "      <td>15776295627</td>\n",
       "      <td>FORWARD_PROPAGATE_LAYER</td>\n",
       "      <td>2</td>\n",
       "      <td>0</td>\n",
       "      <td>GPU</td>\n",
       "    </tr>\n",
       "    <tr>\n",
       "      <th>21</th>\n",
       "      <td>15776295627</td>\n",
       "      <td>FORWARD_PROPAGATE_LAYER</td>\n",
       "      <td>3</td>\n",
       "      <td>16</td>\n",
       "      <td>GPU</td>\n",
       "    </tr>\n",
       "    <tr>\n",
       "      <th>22</th>\n",
       "      <td>15776295627</td>\n",
       "      <td>FORWARD_PROPAGATE_LAYER</td>\n",
       "      <td>4</td>\n",
       "      <td>372</td>\n",
       "      <td>GPU</td>\n",
       "    </tr>\n",
       "    <tr>\n",
       "      <th>23</th>\n",
       "      <td>15776295627</td>\n",
       "      <td>FORWARD_PROPAGATE_LAYER</td>\n",
       "      <td>5</td>\n",
       "      <td>0</td>\n",
       "      <td>GPU</td>\n",
       "    </tr>\n",
       "    <tr>\n",
       "      <th>24</th>\n",
       "      <td>15776295627</td>\n",
       "      <td>FORWARD_PROPAGATE_LAYER</td>\n",
       "      <td>6</td>\n",
       "      <td>18</td>\n",
       "      <td>GPU</td>\n",
       "    </tr>\n",
       "    <tr>\n",
       "      <th>25</th>\n",
       "      <td>15776295627</td>\n",
       "      <td>FORWARD_PROPAGATE_LAYER</td>\n",
       "      <td>7</td>\n",
       "      <td>367</td>\n",
       "      <td>GPU</td>\n",
       "    </tr>\n",
       "    <tr>\n",
       "      <th>26</th>\n",
       "      <td>15776295627</td>\n",
       "      <td>FORWARD_PROPAGATE_LAYER</td>\n",
       "      <td>8</td>\n",
       "      <td>0</td>\n",
       "      <td>GPU</td>\n",
       "    </tr>\n",
       "    <tr>\n",
       "      <th>27</th>\n",
       "      <td>15776295627</td>\n",
       "      <td>FORWARD_PROPAGATE_LAYER</td>\n",
       "      <td>9</td>\n",
       "      <td>488</td>\n",
       "      <td>GPU</td>\n",
       "    </tr>\n",
       "    <tr>\n",
       "      <th>28</th>\n",
       "      <td>15776295627</td>\n",
       "      <td>FORWARD_PROPAGATE_LAYER</td>\n",
       "      <td>10</td>\n",
       "      <td>0</td>\n",
       "      <td>GPU</td>\n",
       "    </tr>\n",
       "    <tr>\n",
       "      <th>29</th>\n",
       "      <td>15776295627</td>\n",
       "      <td>FORWARD_PROPAGATE_LAYER</td>\n",
       "      <td>11</td>\n",
       "      <td>324</td>\n",
       "      <td>GPU</td>\n",
       "    </tr>\n",
       "    <tr>\n",
       "      <th>30</th>\n",
       "      <td>15776295627</td>\n",
       "      <td>FORWARD_PROPAGATE_LAYER</td>\n",
       "      <td>12</td>\n",
       "      <td>0</td>\n",
       "      <td>GPU</td>\n",
       "    </tr>\n",
       "    <tr>\n",
       "      <th>31</th>\n",
       "      <td>15776295627</td>\n",
       "      <td>FORWARD_PROPAGATE_LAYER</td>\n",
       "      <td>13</td>\n",
       "      <td>9</td>\n",
       "      <td>GPU</td>\n",
       "    </tr>\n",
       "    <tr>\n",
       "      <th>32</th>\n",
       "      <td>15776295627</td>\n",
       "      <td>FORWARD_PROPAGATE_LAYER</td>\n",
       "      <td>14</td>\n",
       "      <td>5</td>\n",
       "      <td>GPU</td>\n",
       "    </tr>\n",
       "    <tr>\n",
       "      <th>33</th>\n",
       "      <td>15776295627</td>\n",
       "      <td>FORWARD_PROPAGATE_LAYER</td>\n",
       "      <td>15</td>\n",
       "      <td>5</td>\n",
       "      <td>GPU</td>\n",
       "    </tr>\n",
       "    <tr>\n",
       "      <th>34</th>\n",
       "      <td>15776295627</td>\n",
       "      <td>FORWARD_PROPAGATE_LAYER</td>\n",
       "      <td>16</td>\n",
       "      <td>3111</td>\n",
       "      <td>GPU</td>\n",
       "    </tr>\n",
       "    <tr>\n",
       "      <th>35</th>\n",
       "      <td>15776295627</td>\n",
       "      <td>FORWARD_PROPAGATE_LAYER</td>\n",
       "      <td>17</td>\n",
       "      <td>0</td>\n",
       "      <td>GPU</td>\n",
       "    </tr>\n",
       "    <tr>\n",
       "      <th>36</th>\n",
       "      <td>15776295627</td>\n",
       "      <td>FORWARD_PROPAGATE_LAYER</td>\n",
       "      <td>18</td>\n",
       "      <td>1012</td>\n",
       "      <td>GPU</td>\n",
       "    </tr>\n",
       "    <tr>\n",
       "      <th>37</th>\n",
       "      <td>15776295627</td>\n",
       "      <td>FORWARD_PROPAGATE_LAYER</td>\n",
       "      <td>19</td>\n",
       "      <td>0</td>\n",
       "      <td>GPU</td>\n",
       "    </tr>\n",
       "    <tr>\n",
       "      <th>38</th>\n",
       "      <td>15776295627</td>\n",
       "      <td>FORWARD_PROPAGATE_LAYER</td>\n",
       "      <td>20</td>\n",
       "      <td>272</td>\n",
       "      <td>GPU</td>\n",
       "    </tr>\n",
       "  </tbody>\n",
       "</table>\n",
       "</div>"
      ],
      "text/plain": [
       "      timestamp                  message  idx  time runtime\n",
       "18  15776295627  FORWARD_PROPAGATE_LAYER    0     0     GPU\n",
       "19  15776295627  FORWARD_PROPAGATE_LAYER    1   479     GPU\n",
       "20  15776295627  FORWARD_PROPAGATE_LAYER    2     0     GPU\n",
       "21  15776295627  FORWARD_PROPAGATE_LAYER    3    16     GPU\n",
       "22  15776295627  FORWARD_PROPAGATE_LAYER    4   372     GPU\n",
       "23  15776295627  FORWARD_PROPAGATE_LAYER    5     0     GPU\n",
       "24  15776295627  FORWARD_PROPAGATE_LAYER    6    18     GPU\n",
       "25  15776295627  FORWARD_PROPAGATE_LAYER    7   367     GPU\n",
       "26  15776295627  FORWARD_PROPAGATE_LAYER    8     0     GPU\n",
       "27  15776295627  FORWARD_PROPAGATE_LAYER    9   488     GPU\n",
       "28  15776295627  FORWARD_PROPAGATE_LAYER   10     0     GPU\n",
       "29  15776295627  FORWARD_PROPAGATE_LAYER   11   324     GPU\n",
       "30  15776295627  FORWARD_PROPAGATE_LAYER   12     0     GPU\n",
       "31  15776295627  FORWARD_PROPAGATE_LAYER   13     9     GPU\n",
       "32  15776295627  FORWARD_PROPAGATE_LAYER   14     5     GPU\n",
       "33  15776295627  FORWARD_PROPAGATE_LAYER   15     5     GPU\n",
       "34  15776295627  FORWARD_PROPAGATE_LAYER   16  3111     GPU\n",
       "35  15776295627  FORWARD_PROPAGATE_LAYER   17     0     GPU\n",
       "36  15776295627  FORWARD_PROPAGATE_LAYER   18  1012     GPU\n",
       "37  15776295627  FORWARD_PROPAGATE_LAYER   19     0     GPU\n",
       "38  15776295627  FORWARD_PROPAGATE_LAYER   20   272     GPU"
      ]
     },
     "execution_count": 8,
     "metadata": {},
     "output_type": "execute_result"
    }
   ],
   "source": [
    "df"
   ]
  },
  {
   "cell_type": "code",
   "execution_count": 9,
   "id": "882f5d61-ec52-482d-89a0-f90178480606",
   "metadata": {},
   "outputs": [
    {
     "data": {
      "text/plain": [
       "[<matplotlib.lines.Line2D at 0x7fa8207525c0>]"
      ]
     },
     "execution_count": 9,
     "metadata": {},
     "output_type": "execute_result"
    },
    {
     "data": {
      "image/png": "[encoded data removed]",
      "text/plain": [
       "<Figure size 432x288 with 1 Axes>"
      ]
     },
     "metadata": {
      "needs_background": "light"
     },
     "output_type": "display_data"
    }
   ],
   "source": [
    "plt.plot(df['time'])"
   ]
  },
  {
   "cell_type": "markdown",
   "id": "cffd0daa-1937-4d3f-8c23-164202ce7403",
   "metadata": {},
   "source": [
    "### Output"
   ]
  },
  {
   "cell_type": "code",
   "execution_count": 10,
   "id": "365cd5b1-5352-4c5f-b225-8d8647261468",
   "metadata": {},
   "outputs": [],
   "source": [
    "out = output['36'][0].argsort()[::-1][:5]"
   ]
  },
  {
   "cell_type": "code",
   "execution_count": 11,
   "id": "efade40e-99ce-47e2-84ce-137f50ebb5c3",
   "metadata": {},
   "outputs": [
    {
     "name": "stdout",
     "output_type": "stream",
     "text": [
      "['Egyptian cat', 'Sealyham terrier, Sealyham', 'bassinet', 'studio couch, day bed', 'West Highland white terrier']\n"
     ]
    }
   ],
   "source": [
    "print([imagenet_labels[x] for x in out])"
   ]
  },
  {
   "cell_type": "code",
   "execution_count": null,
   "id": "5fc88625-ace7-47b4-8f0c-e6d661248ffc",
   "metadata": {},
   "outputs": [],
   "source": []
  }
 ],
 "metadata": {
  "kernelspec": {
   "display_name": "Python 3",
   "language": "python",
   "name": "python3"
  },
  "language_info": {
   "codemirror_mode": {
    "name": "ipython",
    "version": 3
   },
   "file_extension": ".py",
   "mimetype": "text/x-python",
   "name": "python",
   "nbconvert_exporter": "python",
   "pygments_lexer": "ipython3",
   "version": "3.6.13"
  }
 },
 "nbformat": 4,
 "nbformat_minor": 5
}
